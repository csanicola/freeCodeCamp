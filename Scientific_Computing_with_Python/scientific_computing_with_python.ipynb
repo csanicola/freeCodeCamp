{
 "cells": [
  {
   "cell_type": "markdown",
   "metadata": {},
   "source": [
    "# Learn String Manipulation by Building a Cipher\n",
    "\n",
    "- Cipher: an algorithm for performing encryption or decryption"
   ]
  },
  {
   "cell_type": "code",
   "execution_count": 4,
   "metadata": {},
   "outputs": [
    {
     "name": "stdout",
     "output_type": "stream",
     "text": [
      "Hello World\n",
      "W\n",
      "d\n",
      "11\n",
      "<class 'str'>\n",
      "<class 'int'>\n"
     ]
    }
   ],
   "source": [
    "number = 5\n",
    "text = 'Hello World'\n",
    "print(text)\n",
    "print(text[6]) # this prints the character at index 6\n",
    "print(text[-1]) # this prints the last character\n",
    "print(len(text)) # this prints the length of the string\n",
    "print(type(text)) # this prints the type of the variable\n",
    "shift = 3\n",
    "print(type(shift))"
   ]
  },
  {
   "cell_type": "code",
   "execution_count": 5,
   "metadata": {},
   "outputs": [
    {
     "data": {
      "text/plain": [
       "25"
      ]
     },
     "execution_count": 5,
     "metadata": {},
     "output_type": "execute_result"
    }
   ],
   "source": [
    "alphabet = 'abcdefghijklmnopqrstuvwxyz'\n",
    "alphabet.find('z') # .find() is used to find the index of a character in a string\n"
   ]
  },
  {
   "cell_type": "code",
   "execution_count": null,
   "metadata": {},
   "outputs": [
    {
     "name": "stdout",
     "output_type": "stream",
     "text": [
      "-1\n",
      "hello world\n"
     ]
    }
   ],
   "source": [
    "index = alphabet.find(text[0])\n",
    "print(index) # this returns -1 because the first character is not in the alphabet (its looking for a capital H but the 'alphabet' only has lowercase letters)\n",
    "print(text.lower())"
   ]
  },
  {
   "cell_type": "code",
   "execution_count": 11,
   "metadata": {},
   "outputs": [
    {
     "name": "stdout",
     "output_type": "stream",
     "text": [
      "7\n",
      "h\n",
      "k\n"
     ]
    }
   ],
   "source": [
    "index = alphabet.find(text[0].lower()) # this will turn the first character into lowercase and then find that first character in the string 'alphabet' and then assign it to the variable 'index'\n",
    "print(index)\n",
    "shifted = alphabet[index] # this will then assign the character at index 'index' to the variable 'shifted'\n",
    "print(shifted)\n",
    "shifted = alphabet[index + shift]\n",
    "print(shifted)"
   ]
  },
  {
   "cell_type": "code",
   "execution_count": null,
   "metadata": {},
   "outputs": [
    {
     "name": "stdout",
     "output_type": "stream",
     "text": [
      "H\n",
      "e\n",
      "l\n",
      "l\n",
      "o\n",
      " \n",
      "W\n",
      "o\n",
      "r\n",
      "l\n",
      "d\n"
     ]
    }
   ],
   "source": [
    "for i in text:\n",
    "    print(i) # this loop statement will print each character in the string 'text' on its own line"
   ]
  },
  {
   "cell_type": "code",
   "execution_count": 14,
   "metadata": {},
   "outputs": [
    {
     "name": "stdout",
     "output_type": "stream",
     "text": [
      "h 7\n",
      "e 4\n",
      "l 11\n",
      "l 11\n",
      "o 14\n",
      "  -1\n",
      "w 22\n",
      "o 14\n",
      "r 17\n",
      "l 11\n",
      "d 3\n"
     ]
    }
   ],
   "source": [
    "for char in text.lower():\n",
    "    index = alphabet.find(char)\n",
    "    print(char, index)"
   ]
  },
  {
   "cell_type": "code",
   "execution_count": null,
   "metadata": {},
   "outputs": [
    {
     "name": "stdout",
     "output_type": "stream",
     "text": [
      "char:  h new char: k\n",
      "char:  e new char: h\n",
      "char:  l new char: o\n",
      "char:  l new char: o\n",
      "char:  o new char: r\n",
      "char:    new char: c\n",
      "char:  w new char: z\n",
      "char:  o new char: r\n",
      "char:  r new char: u\n",
      "char:  l new char: o\n",
      "char:  d new char: g\n"
     ]
    }
   ],
   "source": [
    "for char in text.lower():\n",
    "    index = alphabet.find(char)\n",
    "    new_index = index + shift\n",
    "    new_char = alphabet[new_index]\n",
    "    print('char: ', char, 'new char:', new_char)"
   ]
  },
  {
   "cell_type": "code",
   "execution_count": 18,
   "metadata": {},
   "outputs": [
    {
     "name": "stdout",
     "output_type": "stream",
     "text": [
      "char:  h encrypted text:  k\n",
      "char:  e encrypted text:  kh\n",
      "char:  l encrypted text:  kho\n",
      "char:  l encrypted text:  khoo\n",
      "char:  o encrypted text:  khoor\n",
      "char:    encrypted text:  khoorc\n",
      "char:  w encrypted text:  khoorcz\n",
      "char:  o encrypted text:  khoorczr\n",
      "char:  r encrypted text:  khoorczru\n",
      "char:  l encrypted text:  khoorczruo\n",
      "char:  d encrypted text:  khoorczruog\n"
     ]
    }
   ],
   "source": [
    "encrypted_text = ''\n",
    "for char in text.lower():\n",
    "    index = alphabet.find(char)\n",
    "    new_index = index + shift\n",
    "    encrypted_text = encrypted_text + alphabet[new_index]\n",
    "    print('char: ', char, 'encrypted text: ', encrypted_text)"
   ]
  }
 ],
 "metadata": {
  "kernelspec": {
   "display_name": "carolinesanicola-r1sTagy1",
   "language": "python",
   "name": "python3"
  },
  "language_info": {
   "codemirror_mode": {
    "name": "ipython",
    "version": 3
   },
   "file_extension": ".py",
   "mimetype": "text/x-python",
   "name": "python",
   "nbconvert_exporter": "python",
   "pygments_lexer": "ipython3",
   "version": "3.10.16"
  }
 },
 "nbformat": 4,
 "nbformat_minor": 2
}
