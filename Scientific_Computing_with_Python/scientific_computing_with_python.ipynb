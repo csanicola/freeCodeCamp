{
 "cells": [
  {
   "cell_type": "markdown",
   "metadata": {},
   "source": [
    "# Learn String Manipulation by Building a Cipher\n",
    "**Cipher**: an algorithm for performing encryption or decryption\n",
    "___\n",
    "*Things Learned:*\n",
    "- variables\n",
    "- functions\n",
    "- loops\n",
    "- conditional statements"
   ]
  },
  {
   "cell_type": "code",
   "execution_count": 30,
   "metadata": {},
   "outputs": [
    {
     "name": "stdout",
     "output_type": "stream",
     "text": [
      "Hello World\n",
      "W\n",
      "d\n",
      "11\n",
      "<class 'str'>\n",
      "<class 'int'>\n"
     ]
    }
   ],
   "source": [
    "number = 5\n",
    "text = 'Hello World'\n",
    "print(text)\n",
    "print(text[6]) # this prints the character at index 6\n",
    "print(text[-1]) # this prints the last character\n",
    "print(len(text)) # this prints the length of the string\n",
    "print(type(text)) # this prints the type of the variable\n",
    "shift = 3\n",
    "print(type(shift))"
   ]
  },
  {
   "cell_type": "code",
   "execution_count": 31,
   "metadata": {},
   "outputs": [
    {
     "data": {
      "text/plain": [
       "25"
      ]
     },
     "execution_count": 31,
     "metadata": {},
     "output_type": "execute_result"
    }
   ],
   "source": [
    "alphabet = 'abcdefghijklmnopqrstuvwxyz'\n",
    "alphabet.find('z') # .find() is used to find the index of a character in a string\n"
   ]
  },
  {
   "cell_type": "code",
   "execution_count": 32,
   "metadata": {},
   "outputs": [
    {
     "name": "stdout",
     "output_type": "stream",
     "text": [
      "-1\n",
      "hello world\n"
     ]
    }
   ],
   "source": [
    "index = alphabet.find(text[0])\n",
    "print(index) # this returns -1 because the first character is not in the alphabet (its looking for a capital H but the 'alphabet' only has lowercase letters)\n",
    "print(text.lower())"
   ]
  },
  {
   "cell_type": "code",
   "execution_count": 33,
   "metadata": {},
   "outputs": [
    {
     "name": "stdout",
     "output_type": "stream",
     "text": [
      "7\n",
      "h\n",
      "k\n"
     ]
    }
   ],
   "source": [
    "index = alphabet.find(text[0].lower()) # this will turn the first character into lowercase and then find that first character in the string 'alphabet' and then assign it to the variable 'index'\n",
    "print(index)\n",
    "shifted = alphabet[index] # this will then assign the character at index 'index' to the variable 'shifted'\n",
    "print(shifted)\n",
    "shifted = alphabet[index + shift]\n",
    "print(shifted)"
   ]
  },
  {
   "cell_type": "code",
   "execution_count": 34,
   "metadata": {},
   "outputs": [
    {
     "name": "stdout",
     "output_type": "stream",
     "text": [
      "H\n",
      "e\n",
      "l\n",
      "l\n",
      "o\n",
      " \n",
      "W\n",
      "o\n",
      "r\n",
      "l\n",
      "d\n"
     ]
    }
   ],
   "source": [
    "for i in text:\n",
    "    print(i) # this loop statement will print each character in the string 'text' on its own line"
   ]
  },
  {
   "cell_type": "code",
   "execution_count": 35,
   "metadata": {},
   "outputs": [
    {
     "name": "stdout",
     "output_type": "stream",
     "text": [
      "h 7\n",
      "e 4\n",
      "l 11\n",
      "l 11\n",
      "o 14\n",
      "  -1\n",
      "w 22\n",
      "o 14\n",
      "r 17\n",
      "l 11\n",
      "d 3\n"
     ]
    }
   ],
   "source": [
    "for char in text.lower():\n",
    "    index = alphabet.find(char)\n",
    "    print(char, index)"
   ]
  },
  {
   "cell_type": "code",
   "execution_count": 36,
   "metadata": {},
   "outputs": [
    {
     "name": "stdout",
     "output_type": "stream",
     "text": [
      "char:  h new char: k\n",
      "char:  e new char: h\n",
      "char:  l new char: o\n",
      "char:  l new char: o\n",
      "char:  o new char: r\n",
      "char:    new char: c\n",
      "char:  w new char: z\n",
      "char:  o new char: r\n",
      "char:  r new char: u\n",
      "char:  l new char: o\n",
      "char:  d new char: g\n"
     ]
    }
   ],
   "source": [
    "for char in text.lower():\n",
    "    index = alphabet.find(char)\n",
    "    new_index = index + shift\n",
    "    new_char = alphabet[new_index]\n",
    "    print('char: ', char, 'new char:', new_char)"
   ]
  },
  {
   "cell_type": "code",
   "execution_count": null,
   "metadata": {},
   "outputs": [
    {
     "name": "stdout",
     "output_type": "stream",
     "text": [
      "char:  h encrypted text:  k\n",
      "char:  e encrypted text:  kh\n",
      "char:  l encrypted text:  kho\n",
      "char:  l encrypted text:  khoo\n",
      "char:  o encrypted text:  khoor\n",
      "char:    encrypted text:  khoorc\n",
      "char:  w encrypted text:  khoorcz\n",
      "char:  o encrypted text:  khoorczr\n",
      "char:  r encrypted text:  khoorczru\n",
      "char:  l encrypted text:  khoorczruo\n",
      "char:  d encrypted text:  khoorczruog\n"
     ]
    }
   ],
   "source": [
    "encrypted_text = ''\n",
    "\n",
    "for char in text.lower():\n",
    "    index = alphabet.find(char)\n",
    "    new_index = index + shift\n",
    "    encrypted_text += alphabet[new_index] # this is the same as writing 'encrypted_text = encrypted_text + alphabet[new_index]'\n",
    "    print('char: ', char, 'encrypted text: ', encrypted_text)"
   ]
  },
  {
   "cell_type": "code",
   "execution_count": 39,
   "metadata": {},
   "outputs": [
    {
     "name": "stdout",
     "output_type": "stream",
     "text": [
      "char: h encrypted text: k\n",
      "char: e encrypted text: kh\n",
      "char: l encrypted text: kho\n",
      "char: l encrypted text: khoo\n",
      "char: o encrypted text: khoor\n",
      "space!\n",
      "char:   encrypted text: khoorc\n",
      "char: w encrypted text: khoorcz\n",
      "char: o encrypted text: khoorczr\n",
      "char: r encrypted text: khoorczru\n",
      "char: l encrypted text: khoorczruo\n",
      "char: d encrypted text: khoorczruog\n"
     ]
    }
   ],
   "source": [
    "encrypted_text = ''\n",
    "\n",
    "for char in text.lower():\n",
    "    if char == ' ':\n",
    "        print('space!') # this is a conditional statement that will print 'space!' if the character is a space\n",
    "    index = alphabet.find(char)\n",
    "    new_index = index + shift\n",
    "    encrypted_text += alphabet[new_index]\n",
    "    print('char:', char, 'encrypted text:', encrypted_text)"
   ]
  },
  {
   "cell_type": "code",
   "execution_count": null,
   "metadata": {},
   "outputs": [
    {
     "name": "stdout",
     "output_type": "stream",
     "text": [
      "char: h encrypted text: k\n",
      "char: e encrypted text: kh\n",
      "char: l encrypted text: kho\n",
      "char: l encrypted text: khoo\n",
      "char: o encrypted text: khoor\n",
      "char:   encrypted text: khoor c\n",
      "char: w encrypted text: khoor cz\n",
      "char: o encrypted text: khoor czr\n",
      "char: r encrypted text: khoor czru\n",
      "char: l encrypted text: khoor czruo\n",
      "char: d encrypted text: khoor czruog\n"
     ]
    }
   ],
   "source": [
    "encrypted_text = ''\n",
    "\n",
    "for char in text.lower():\n",
    "    if char == ' ':\n",
    "        encrypted_text += char # this is now saying add a space if there is no character\n",
    "    else: # we are saying that instead of adding a character for the space to continue encrypting the rest of the characters\n",
    "        index = alphabet.find(char) \n",
    "        new_index = index + shift\n",
    "        encrypted_text += alphabet[new_index]\n",
    "    print('char:', char, 'encrypted text:', encrypted_text)"
   ]
  },
  {
   "cell_type": "code",
   "execution_count": null,
   "metadata": {},
   "outputs": [
    {
     "name": "stdout",
     "output_type": "stream",
     "text": [
      "char: h encrypted text: k\n",
      "char: e encrypted text: kh\n",
      "char: l encrypted text: kho\n",
      "char: l encrypted text: khoo\n",
      "char: o encrypted text: khoor\n",
      "char:   encrypted text: khoor \n",
      "char: z encrypted text: khoor c\n",
      "char: a encrypted text: khoor cd\n",
      "char: i encrypted text: khoor cdl\n",
      "char: r encrypted text: khoor cdlu\n",
      "char: a encrypted text: khoor cdlud\n"
     ]
    }
   ],
   "source": [
    "text = 'Hello Zaira'\n",
    "shift = 3\n",
    "alphabet = 'abcdefghijklmnopqrstuvwxyz'\n",
    "encrypted_text = ''\n",
    "\n",
    "for char in text.lower():\n",
    "    if char == ' ':\n",
    "        encrypted_text += char\n",
    "    else:\n",
    "        index = alphabet.find(char)\n",
    "        new_index = (index + shift) % 26 # using a modulo operator to make sure that the new index is within the range of the alphabet (26 characters)\n",
    "        encrypted_text += alphabet[new_index]\n",
    "    print('char:', char, 'encrypted text:', encrypted_text)"
   ]
  },
  {
   "cell_type": "code",
   "execution_count": 42,
   "metadata": {},
   "outputs": [
    {
     "name": "stdout",
     "output_type": "stream",
     "text": [
      "char: h encrypted text: k\n",
      "char: e encrypted text: kh\n",
      "char: l encrypted text: kho\n",
      "char: l encrypted text: khoo\n",
      "char: o encrypted text: khoor\n",
      "char:   encrypted text: khoor \n",
      "char: z encrypted text: khoor c\n",
      "char: a encrypted text: khoor cd\n",
      "char: i encrypted text: khoor cdl\n",
      "char: r encrypted text: khoor cdlu\n",
      "char: a encrypted text: khoor cdlud\n"
     ]
    }
   ],
   "source": [
    "text = 'Hello Zaira'\n",
    "shift = 3\n",
    "alphabet = 'abcdefghijklmnopqrstuvwxyz'\n",
    "encrypted_text = ''\n",
    "\n",
    "for char in text.lower():\n",
    "    if char == ' ':\n",
    "        encrypted_text += char\n",
    "    else:\n",
    "        index = alphabet.find(char)\n",
    "        new_index = (index + shift) % len(alphabet) # instead of a number like above, you can use the length of the alphabet in case you add or take away from it without having to change the number each time\n",
    "        encrypted_text += alphabet[new_index]\n",
    "    print('char:', char, 'encrypted text:', encrypted_text)"
   ]
  },
  {
   "cell_type": "code",
   "execution_count": 43,
   "metadata": {},
   "outputs": [
    {
     "name": "stdout",
     "output_type": "stream",
     "text": [
      "plain text: Hello Zaira\n",
      "encrypted text: khoor cdlud\n"
     ]
    }
   ],
   "source": [
    "text = 'Hello Zaira'\n",
    "shift = 3\n",
    "alphabet = 'abcdefghijklmnopqrstuvwxyz'\n",
    "encrypted_text = ''\n",
    "\n",
    "for char in text.lower():\n",
    "    if char == ' ':\n",
    "        encrypted_text += char\n",
    "    else:\n",
    "        index = alphabet.find(char)\n",
    "        new_index = (index + shift) % len(alphabet)\n",
    "        encrypted_text += alphabet[new_index]\n",
    "print('plain text:', text)\n",
    "print('encrypted text:', encrypted_text) # to only store the text one time so it doesnt keep adding to the loop, you put the print statement outside of the loop"
   ]
  },
  {
   "cell_type": "code",
   "execution_count": null,
   "metadata": {},
   "outputs": [
    {
     "name": "stdout",
     "output_type": "stream",
     "text": [
      "plain text: Hello Zaira\n",
      "encrypted text: khoor cdlud\n"
     ]
    }
   ],
   "source": [
    "text = 'Hello Zaira'\n",
    "shift = 3\n",
    "\n",
    "def caesar(message, offset): # this is a function that takes in a message and an offset\n",
    "    alphabet = 'abcdefghijklmnopqrstuvwxyz'\n",
    "    encrypted_text = ''\n",
    "\n",
    "    for char in message.lower():\n",
    "        if char == ' ':\n",
    "            encrypted_text += char\n",
    "        else:\n",
    "            index = alphabet.find(char)\n",
    "            new_index = (index + offset) % len(alphabet)\n",
    "            encrypted_text += alphabet[new_index]\n",
    "    print('plain text:', message)\n",
    "    print('encrypted text:', encrypted_text)\n",
    "\n",
    "caesar(text, shift)"
   ]
  },
  {
   "cell_type": "code",
   "execution_count": 45,
   "metadata": {},
   "outputs": [
    {
     "name": "stdout",
     "output_type": "stream",
     "text": [
      "wcesc mpgkh\n"
     ]
    }
   ],
   "source": [
    "text = 'Hello Zaira'\n",
    "custom_key = 'python'\n",
    "\n",
    "def vigenere(message, key):\n",
    "    key_index = 0\n",
    "    alphabet = 'abcdefghijklmnopqrstuvwxyz'\n",
    "    encrypted_text = ''\n",
    "\n",
    "    for char in message.lower():\n",
    "        # Append space to the message\n",
    "        if char == ' ':\n",
    "            encrypted_text += char\n",
    "        else:\n",
    "            # Find the right key character to encode\n",
    "            key_char = key[key_index % len(key)] # assigns the value of key at the index key_index mod the length of key\n",
    "            key_index += 1\n",
    "            \n",
    "            # Define the offset and the encrypted letter\n",
    "            offset = alphabet.index(key_char)\n",
    "            index = alphabet.find(char)\n",
    "            new_index = (index + offset) % len(alphabet)\n",
    "            encrypted_text += alphabet[new_index]\n",
    "            \n",
    "    return encrypted_text\n",
    "\n",
    "encryption = vigenere(text, custom_key)\n",
    "print(encryption)"
   ]
  },
  {
   "cell_type": "code",
   "execution_count": null,
   "metadata": {},
   "outputs": [
    {
     "name": "stdout",
     "output_type": "stream",
     "text": [
      "wcesc mpgkh\n",
      "hello zaira\n"
     ]
    }
   ],
   "source": [
    "text = 'Hello Zaira'\n",
    "custom_key = 'python'\n",
    "\n",
    "def vigenere(message, key, direction): # by adding another variable called direction, you can change the direction of the encryption\n",
    "    key_index = 0\n",
    "    alphabet = 'abcdefghijklmnopqrstuvwxyz'\n",
    "    encrypted_text = ''\n",
    "\n",
    "    for char in message.lower():\n",
    "        # Append space to the message\n",
    "        if char == ' ':\n",
    "            encrypted_text += char\n",
    "        else:\n",
    "            # Find the right key character to encode\n",
    "            key_char = key[key_index % len(key)] # assigns the value of key at the index key_index mod the length of key\n",
    "            key_index += 1\n",
    "            \n",
    "            # Define the offset and the encrypted letter\n",
    "            offset = alphabet.index(key_char)\n",
    "            index = alphabet.find(char)\n",
    "            new_index = (index + offset * direction) % len(alphabet) # adding the direction to the offset\n",
    "            encrypted_text += alphabet[new_index]\n",
    "            \n",
    "    return encrypted_text\n",
    "\n",
    "encryption = vigenere(text, custom_key, 1)\n",
    "print(encryption)\n",
    "decryption = vigenere(encryption, custom_key, -1)\n",
    "print(decryption)"
   ]
  },
  {
   "cell_type": "code",
   "execution_count": 3,
   "metadata": {},
   "outputs": [
    {
     "name": "stdout",
     "output_type": "stream",
     "text": [
      "wcesc mpgkh!\n",
      "hello zaira!\n"
     ]
    }
   ],
   "source": [
    "text = 'Hello Zaira!'\n",
    "custom_key = 'python'\n",
    "\n",
    "def vigenere(message, key, direction=1): # some functions can have default arguments in them so for this we will have the default of direction be 1\n",
    "    key_index = 0\n",
    "    alphabet = 'abcdefghijklmnopqrstuvwxyz'\n",
    "    final_message = ''\n",
    "\n",
    "    for char in message.lower():\n",
    "        # Append any non-letter character to the message\n",
    "        if not char.isalpha(): # adding the not operator at the beginning of the if condition checks if the character is not alphabetic\n",
    "            final_message += char\n",
    "        else:\n",
    "            # Find the right key character to encode/decode\n",
    "            key_char = key[key_index % len(key)] # assigns the value of key at the index key_index mod the length of key\n",
    "            key_index += 1\n",
    "            \n",
    "            # Define the offset and the encrypted/decryption letter\n",
    "            offset = alphabet.index(key_char)\n",
    "            index = alphabet.find(char)\n",
    "            new_index = (index + offset * direction) % len(alphabet) # adding the direction to the offset\n",
    "            final_message += alphabet[new_index]\n",
    "            \n",
    "    return final_message\n",
    "def encrypt(message, key):\n",
    "    return vigenere(message, key)\n",
    "\n",
    "def decrypt(message, key):\n",
    "    return vigenere(message, key, -1)\n",
    "\n",
    "encryption = encrypt(text, custom_key)\n",
    "print(encryption)\n",
    "decryption = decrypt(encryption, custom_key)\n",
    "print(decryption)"
   ]
  },
  {
   "cell_type": "code",
   "execution_count": 4,
   "metadata": {},
   "outputs": [
    {
     "name": "stdout",
     "output_type": "stream",
     "text": [
      "\n",
      "Encrypted text: mrttaqrhknsw ih puggrur\n",
      "Key: happycoding\n",
      "\n",
      "Decrypted text: freecodecamp is awesome\n",
      "\n"
     ]
    }
   ],
   "source": [
    "text = 'mrttaqrhknsw ih puggrur'\n",
    "custom_key = 'happycoding'\n",
    "\n",
    "def vigenere(message, key, direction=1):\n",
    "    key_index = 0\n",
    "    alphabet = 'abcdefghijklmnopqrstuvwxyz'\n",
    "    final_message = ''\n",
    "\n",
    "    for char in message.lower():\n",
    "\n",
    "        # Append any non-letter character to the message\n",
    "        if not char.isalpha():\n",
    "            final_message += char\n",
    "        else:        \n",
    "            # Find the right key character to encode/decode\n",
    "            key_char = key[key_index % len(key)]\n",
    "            key_index += 1\n",
    "\n",
    "            # Define the offset and the encrypted/decrypted letter\n",
    "            offset = alphabet.index(key_char)\n",
    "            index = alphabet.find(char)\n",
    "            new_index = (index + offset*direction) % len(alphabet)\n",
    "            final_message += alphabet[new_index]\n",
    "    \n",
    "    return final_message\n",
    "\n",
    "def encrypt(message, key):\n",
    "    return vigenere(message, key)\n",
    "    \n",
    "def decrypt(message, key):\n",
    "    return vigenere(message, key, -1)\n",
    "\n",
    "print(f'\\nEncrypted text: {text}') # the \\n is for a new line\n",
    "print(f'Key: {custom_key}') # the f is an interpolation which is just a placeholder for the specified value you want to print\n",
    "decryption = decrypt(text, custom_key)\n",
    "print(f'\\nDecrypted text: {decryption}\\n')"
   ]
  },
  {
   "cell_type": "markdown",
   "metadata": {},
   "source": [
    "# Learn How to Work with Numbers and Strings by Implementing the Luhn Algorithm\n",
    "The Luhn Algorithm is widely used for error-checking in various applications, such as verifying credit card numbers.\n",
    "___\n",
    "*Things learned:*\n",
    "- numerical computations\n",
    "- string manipulation"
   ]
  },
  {
   "cell_type": "code",
   "execution_count": 3,
   "metadata": {},
   "outputs": [
    {
     "name": "stdout",
     "output_type": "stream",
     "text": [
      "4111111145551142\n"
     ]
    }
   ],
   "source": [
    "def main():\n",
    "    card_number = '4111-1111-4555-1142'\n",
    "    card_translation = str.maketrans({'-': '', ' ': ''}) # this is string manipulation where it makes a translation table that swaps certain string variables for others \n",
    "    translated_card_number = card_number.translate(card_translation) # to actually apply the translation table you need to use the translation method\n",
    "    print(translated_card_number)\n",
    "main()"
   ]
  },
  {
   "cell_type": "code",
   "execution_count": 8,
   "metadata": {},
   "outputs": [
    {
     "name": "stdout",
     "output_type": "stream",
     "text": [
      "41\n",
      "4111111145551142\n",
      "41\n"
     ]
    }
   ],
   "source": [
    "def verify_card_number(card_number): # now we are defining a function with a parameter called card_number\n",
    "    sum_of_odd_digits = 0\n",
    "    card_number_reversed = card_number[0:4:2] # slicing the card number to get the first four digits and skipping every other digit\n",
    "    print(card_number_reversed)\n",
    "\n",
    "def main():\n",
    "    card_number = '4111-1111-4555-1142'\n",
    "    card_translation = str.maketrans({'-': '', ' ': ''})\n",
    "    translated_card_number = card_number.translate(card_translation)\n",
    "    verify_card_number(translated_card_number) # now we are calling the function with the translated card number\n",
    "    print(translated_card_number)\n",
    "    verify_card_number(translated_card_number)\n",
    "\n",
    "main()"
   ]
  },
  {
   "cell_type": "code",
   "execution_count": null,
   "metadata": {},
   "outputs": [
    {
     "name": "stdout",
     "output_type": "stream",
     "text": [
      "2\n",
      "1\n",
      "5\n",
      "5\n",
      "1\n",
      "1\n",
      "1\n",
      "1\n"
     ]
    }
   ],
   "source": [
    "def verify_card_number(card_number):\n",
    "    sum_of_odd_digits = 0\n",
    "    card_number_reversed = card_number[::-1] # this reverses the card number\n",
    "    odd_digits = card_number_reversed[::2] # this slices the card number to get the odd digits\n",
    "    for digit in odd_digits: # now we want to loop through the odd digits\n",
    "        print(digit) # and print each digit on its own line\n",
    "\n",
    "def main():\n",
    "    card_number = '4111-1111-4555-1142'\n",
    "    card_translation = str.maketrans({'-': '', ' ': ''})\n",
    "    translated_card_number = card_number.translate(card_translation)\n",
    "    verify_card_number(translated_card_number)\n",
    "\n",
    "main()"
   ]
  },
  {
   "cell_type": "code",
   "execution_count": 10,
   "metadata": {},
   "outputs": [
    {
     "name": "stdout",
     "output_type": "stream",
     "text": [
      "2\n",
      "3\n",
      "8\n",
      "13\n",
      "14\n",
      "15\n",
      "16\n",
      "17\n"
     ]
    }
   ],
   "source": [
    "def verify_card_number(card_number):\n",
    "    sum_of_odd_digits = 0\n",
    "    card_number_reversed = card_number[::-1]\n",
    "    odd_digits = card_number_reversed[::2]\n",
    "\n",
    "    for digit in odd_digits:\n",
    "        sum_of_odd_digits += int(digit) # need to convert the digit to an integer before combining them\n",
    "        print(sum_of_odd_digits)\n",
    "\n",
    "def main():\n",
    "    card_number = '4111-1111-4555-1142'\n",
    "    card_translation = str.maketrans({'-': '', ' ': ''})\n",
    "    translated_card_number = card_number.translate(card_translation)\n",
    "\n",
    "    verify_card_number(translated_card_number)\n",
    "\n",
    "main()"
   ]
  },
  {
   "cell_type": "code",
   "execution_count": 11,
   "metadata": {},
   "outputs": [
    {
     "name": "stdout",
     "output_type": "stream",
     "text": [
      "VALID!\n"
     ]
    }
   ],
   "source": [
    "def verify_card_number(card_number):\n",
    "    sum_of_odd_digits = 0\n",
    "    card_number_reversed = card_number[::-1]\n",
    "    odd_digits = card_number_reversed[::2]\n",
    "\n",
    "    for digit in odd_digits:\n",
    "        sum_of_odd_digits += int(digit)\n",
    "\n",
    "    sum_of_even_digits = 0\n",
    "    even_digits = card_number_reversed[1::2]\n",
    "    for digit in even_digits:\n",
    "        number = int(digit) * 2\n",
    "        if number >= 10:\n",
    "            number = (number // 10) + (number % 10)\n",
    "        sum_of_even_digits += number\n",
    "    total = sum_of_odd_digits + sum_of_even_digits\n",
    "    return total % 10 == 0\n",
    "\n",
    "def main():\n",
    "    card_number = '4111-1111-4555-1142'\n",
    "    card_translation = str.maketrans({'-': '', ' ': ''})\n",
    "    translated_card_number = card_number.translate(card_translation)\n",
    "\n",
    "    if verify_card_number(translated_card_number): # this is saying that if the translated card number and verified card number are True, print VALID! otherwise print INVALID!\n",
    "        print('VALID!')\n",
    "    else:\n",
    "        print('INVALID!')\n",
    "\n",
    "main()"
   ]
  },
  {
   "cell_type": "markdown",
   "metadata": {},
   "source": [
    "# Learn Lambda Functions by Building an Expense Tracker\n",
    "Lambda functions give you a concise way to write small, throwaway functions in your code.\n",
    "___\n",
    "In this project, you'll explore the power of Lambda Functions by creating an expense tracker. Your resulting app will demonstrate how you can use Lambda Functions for efficient, streamlined operations."
   ]
  },
  {
   "cell_type": "code",
   "execution_count": 13,
   "metadata": {},
   "outputs": [
    {
     "name": "stdout",
     "output_type": "stream",
     "text": [
      "[4, 6, 10, 16]\n",
      "36\n"
     ]
    }
   ],
   "source": [
    "def add_expense(expenses, amount, category):\n",
    "    expenses.append({'amount': amount, 'category': category}) # we are adding a dictionary to the expenses list with the amount and category as keys\n",
    "def print_expenses(expenses): # this will print the expenses\n",
    "    for expense in expenses: # this will loop through each expense in expenses\n",
    "        print(f'Amount: {expense[\"amount\"]}, Category: {expense[\"category\"]}') # and print out the amount and category\n",
    "def total_expenses(expenses):\n",
    "    pass\n",
    "test = lambda x: x * 2 # this lambda function takes an x parameter and returns x * 2\n",
    "print(list(map(test, [2, 3, 5, 8]))) # the map function will apply the lambda function to each element in the list but to print it out into something readable we need to use the list function\n",
    "print(sum(map(test, [2, 3, 5, 8])))"
   ]
  },
  {
   "cell_type": "code",
   "execution_count": 14,
   "metadata": {},
   "outputs": [],
   "source": [
    "def add_expense(expenses, amount, category):\n",
    "    expenses.append({'amount': amount, 'category': category})\n",
    "    \n",
    "def print_expenses(expenses):\n",
    "    for expense in expenses:\n",
    "        print(f'Amount: {expense[\"amount\"]}, Category: {expense[\"category\"]}')\n",
    "    \n",
    "def total_expenses(expenses):\n",
    "    return sum(map(lambda expense: expense['amount'], expenses))\n",
    "    \n",
    "def filter_expenses_by_category(expenses, category):\n",
    "    return filter(lambda expense: expense['category'] == category, expenses) # this will filter the expenses by category\n",
    "\n",
    "expenses = []"
   ]
  },
  {
   "cell_type": "code",
   "execution_count": null,
   "metadata": {},
   "outputs": [],
   "source": [
    "def add_expense(expenses, amount, category):\n",
    "    expenses.append({'amount': amount, 'category': category})\n",
    "    \n",
    "def print_expenses(expenses):\n",
    "    for expense in expenses:\n",
    "        print(f'Amount: {expense[\"amount\"]}, Category: {expense[\"category\"]}')\n",
    "    \n",
    "def total_expenses(expenses):\n",
    "    return sum(map(lambda expense: expense['amount'], expenses))\n",
    "    \n",
    "def filter_expenses_by_category(expenses, category):\n",
    "    return filter(lambda expense: expense['category'] == category, expenses)\n",
    "    \n",
    "def main():\n",
    "    expenses = []\n",
    "    while True:\n",
    "        print('\\nExpense Tracker')\n",
    "        print('1. Add an expense')\n",
    "        print('2. List all expenses')\n",
    "        print('3. Show total expenses')\n",
    "        print('4. Filter expenses by category')\n",
    "        print('5. Exit')\n",
    "        \n",
    "        choice = input('Enter your choice: ') # this will prompt the user to enter their choice\n",
    "        if choice == '1':\n",
    "            amount = float(input('Enter amount: '))\n",
    "            category = input('Enter category: ')\n",
    "            add_expense(expenses, amount, category)\n",
    "\n",
    "        elif choice == '2':\n",
    "            print('\\nAll Expenses:')\n",
    "            print_expenses(expenses)\n",
    "    \n",
    "        elif choice == '3':\n",
    "            print('\\nTotal Expenses: ', total_expenses(expenses))\n",
    "    \n",
    "        elif choice == '4':\n",
    "            category = input('Enter category to filter: ')\n",
    "            print(f'\\nExpenses for {category}:')\n",
    "            expenses_from_category = filter_expenses_by_category(expenses, category)\n",
    "            print_expenses(expenses_from_category)\n",
    "    \n",
    "        elif choice == '5':\n",
    "            print('Exiting the program.')\n",
    "            break\n",
    "\n",
    "main()"
   ]
  },
  {
   "cell_type": "markdown",
   "metadata": {},
   "source": [
    "# Learn Python List Comprehension by Building a Case Converter Program\n",
    "\n",
    "List Comprehension is a way to construct a new Python list from an iterable types: lists, tuples, and strings. All without using a for loop or the `.append()` list method.\n",
    "___\n",
    "In this project, you'll write a program that takes a string formatted in Camel Case or Pascal Case, then converts it into Snake Case.\n",
    "___\n",
    "The project has two phases: first you'll use a for loop to implement the program. Then you'll learn how to use List Comprehension instead of a loop to achieve the same results."
   ]
  },
  {
   "cell_type": "code",
   "execution_count": null,
   "metadata": {},
   "outputs": [],
   "source": [
    "def convert_to_snake_case(pascal_or_camel_cased_string):\n",
    "    snake_cased_char_list = []\n",
    "    for char in pascal_or_camel_cased_string:\n",
    "        if char.isupper():\n",
    "            converted_character = '_' + char.lower()\n",
    "            snake_cased_char_list.append(converted_character)\n",
    "        else:\n",
    "            snake_cased_char_list.append(char)\n",
    "    snake_cased_string = ''.join(snake_cased_char_list)\n",
    "    clean_snake_cased_string = snake_cased_string.strip('_')\n",
    "\n",
    "    return clean_snake_cased_string\n",
    "\n",
    "def main():\n",
    "    print(convert_to_snake_case('aLongAndComplexString'))\n",
    "main()"
   ]
  }
 ],
 "metadata": {
  "kernelspec": {
   "display_name": "carolinesanicola-r1sTagy1",
   "language": "python",
   "name": "python3"
  },
  "language_info": {
   "codemirror_mode": {
    "name": "ipython",
    "version": 3
   },
   "file_extension": ".py",
   "mimetype": "text/x-python",
   "name": "python",
   "nbconvert_exporter": "python",
   "pygments_lexer": "ipython3",
   "version": "3.10.16"
  }
 },
 "nbformat": 4,
 "nbformat_minor": 2
}
